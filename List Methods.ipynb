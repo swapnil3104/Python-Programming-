{
 "cells": [
  {
   "cell_type": "code",
   "execution_count": 12,
   "id": "97e618c4",
   "metadata": {},
   "outputs": [
    {
     "name": "stdout",
     "output_type": "stream",
     "text": [
      "Original List: [2, 3, 5, 7, 11, 13, 17, 19]\n",
      "List after appending : [2, 3, 5, 7, 11, 13, 17, 19, 20]\n"
     ]
    }
   ],
   "source": [
    "#Append element in list\n",
    "\n",
    "numbers = [2, 3, 5, 7, 11, 13, 17, 19]\n",
    "print(\"Original List:\", numbers)\n",
    "\n",
    "# numbers.append(23)\n",
    "# print(\"List after appending :\", numbers)\n",
    "\n",
    "Num = int(input(\"Enter a number to append: \"))\n",
    "numbers.append(Num)\n",
    "\n",
    "print(\"List after appending :\", numbers)"
   ]
  },
  {
   "cell_type": "code",
   "execution_count": 13,
   "id": "be6a5e30",
   "metadata": {},
   "outputs": [
    {
     "name": "stdout",
     "output_type": "stream",
     "text": [
      "Original List: ['apple', 'bannana', 'orange', 'kiwi']\n",
      "List after sorting in accending order: ['apple', 'bannana', 'kiwi', 'orange']\n"
     ]
    }
   ],
   "source": [
    "#Sorting in accending order\n",
    "\n",
    "# list =[44.5,23.4,67.8,12.3,89.0]\n",
    "# print(\"Original List:\", list)\n",
    "\n",
    "# list.sort()\n",
    "# print(\"List after sorting in accending order:\", list)\n",
    "\n",
    "list = [\"apple\",\"bannana\",\"orange\",\"kiwi\"]\n",
    "print(\"Original List:\", list)\n",
    "\n",
    "list.sort()\n",
    "print(\"List after sorting in accending order:\", list)"
   ]
  },
  {
   "cell_type": "code",
   "execution_count": 14,
   "id": "f7ddbc18",
   "metadata": {},
   "outputs": [
    {
     "name": "stdout",
     "output_type": "stream",
     "text": [
      "Original List: [44.5, 23.4, 67.8, 12.3, 89.0]\n",
      "List after sorting in decending order: [89.0, 67.8, 44.5, 23.4, 12.3]\n"
     ]
    }
   ],
   "source": [
    "# Shorting in decending order\n",
    "list =[44.5,23.4,67.8,12.3,89.0]\n",
    "print(\"Original List:\", list)\n",
    "\n",
    "list.sort(reverse=True)\n",
    "print(\"List after sorting in decending order:\", list)"
   ]
  },
  {
   "cell_type": "code",
   "execution_count": 15,
   "id": "bb66dd0f",
   "metadata": {},
   "outputs": [
    {
     "name": "stdout",
     "output_type": "stream",
     "text": [
      "Original List: [44.5, 23.4, 67.8, 12.3, 89]\n",
      "List after reversing: [89, 12.3, 67.8, 23.4, 44.5]\n"
     ]
    }
   ],
   "source": [
    "# reverse a list\n",
    "\n",
    "list =[44.5,23.4,67.8,12.3,89]\n",
    "print(\"Original List:\", list)\n",
    "\n",
    "list.reverse()\n",
    "print(\"List after reversing:\", list)"
   ]
  },
  {
   "cell_type": "code",
   "execution_count": 16,
   "id": "722d935f",
   "metadata": {},
   "outputs": [
    {
     "name": "stdout",
     "output_type": "stream",
     "text": [
      "Original List: [10, 20, 30, 40, 50]\n",
      "List after inserting 25 at index 2: [10, 20, 25, 30, 40, 50]\n"
     ]
    }
   ],
   "source": [
    "# insert element in list\n",
    "\n",
    "list = [10,20,30,40,50]\n",
    "print(\"Original List:\", list)\n",
    "\n",
    "# Syntax : list.insert(index, element)\n",
    "list.insert(2,25)\n",
    "print(\"List after inserting 25 at index 2:\", list)\n"
   ]
  },
  {
   "cell_type": "code",
   "execution_count": 17,
   "id": "0e2fe633",
   "metadata": {},
   "outputs": [
    {
     "name": "stdout",
     "output_type": "stream",
     "text": [
      "Original List: [10, 20, 30, 40, 50]\n",
      "List after removing 30: [10, 20, 40, 50]\n"
     ]
    }
   ],
   "source": [
    "# remove element from list\n",
    "\n",
    "list = [10,20,30,40,50]\n",
    "print(\"Original List:\", list)\n",
    "\n",
    "#syntax : list.remove(element)\n",
    "list.remove(30)\n",
    "print(\"List after removing 30:\", list)"
   ]
  },
  {
   "cell_type": "code",
   "execution_count": 18,
   "id": "37a356be",
   "metadata": {},
   "outputs": [
    {
     "name": "stdout",
     "output_type": "stream",
     "text": [
      "Original List: [10, 20, 30, 40, 50]\n",
      "List after poping element at index 2: [10, 20, 40, 50]\n"
     ]
    }
   ],
   "source": [
    "# pop element from list\n",
    "\n",
    "list = [10,20,30,40,50]\n",
    "print(\"Original List:\", list)\n",
    "\n",
    "#syntax : list.pop(index)\n",
    "list.pop(2)\n",
    "print(\"List after poping element at index 2:\", list)"
   ]
  },
  {
   "cell_type": "code",
   "execution_count": 20,
   "id": "84843bd3",
   "metadata": {},
   "outputs": [
    {
     "name": "stdout",
     "output_type": "stream",
     "text": [
      "Original List: [10, 20, 30, 40, 50, 20, 30, 20]\n",
      "Number of occurrences of 20 in the list: 3\n"
     ]
    }
   ],
   "source": [
    "# count occurrences of an element in a list\n",
    "\n",
    "list = [10,20,30,40,50,20,30,20]\n",
    "print(\"Original List:\", list)\n",
    "\n",
    "#syntax : list.count(element)\n",
    "count_20 = list.count(20)\n",
    "print(\"Number of occurrences of 20 in the list:\", count_20)"
   ]
  },
  {
   "cell_type": "code",
   "execution_count": 21,
   "id": "c6ecf326",
   "metadata": {},
   "outputs": [
    {
     "name": "stdout",
     "output_type": "stream",
     "text": [
      "Original List: [10, 20, 30, 40, 50, 20, 30, 20]\n",
      "Number of occurrences of 10 in the list: 1\n"
     ]
    }
   ],
   "source": [
    "# count element in list\n",
    "\n",
    "list = [10,20,30,40,50,20,30,20]\n",
    "print(\"Original List:\", list)\n",
    "\n",
    "Num = int(input(\"Enter a number to count its occurrences: \"))\n",
    "count_Num = list.count(Num)\n",
    "\n",
    "print(f\"Number of occurrences of {Num} in the list:\", count_Num)"
   ]
  },
  {
   "cell_type": "code",
   "execution_count": null,
   "id": "7e9f7c09",
   "metadata": {},
   "outputs": [
    {
     "name": "stdout",
     "output_type": "stream",
     "text": [
      "Original List: [1, 2, 3, 4, 5]\n",
      "Copied List: [1, 2, 3, 4, 5]\n"
     ]
    },
    {
     "ename": "",
     "evalue": "",
     "output_type": "error",
     "traceback": [
      "\u001b[1;31mThe Kernel crashed while executing code in the current cell or a previous cell. \n",
      "\u001b[1;31mPlease review the code in the cell(s) to identify a possible cause of the failure. \n",
      "\u001b[1;31mClick <a href='https://aka.ms/vscodeJupyterKernelCrash'>here</a> for more info. \n",
      "\u001b[1;31mView Jupyter <a href='command:jupyter.viewOutput'>log</a> for further details."
     ]
    }
   ],
   "source": [
    "# copy a list\n",
    "\n",
    "list1 = [1, 2, 3, 4, 5]\n",
    "print(\"Original List:\", list1)\n",
    "\n",
    "list2 = list1.copy()\n",
    "print(\"Copied List:\", list2)"
   ]
  }
 ],
 "metadata": {
  "kernelspec": {
   "display_name": "base",
   "language": "python",
   "name": "python3"
  },
  "language_info": {
   "codemirror_mode": {
    "name": "ipython",
    "version": 3
   },
   "file_extension": ".py",
   "mimetype": "text/x-python",
   "name": "python",
   "nbconvert_exporter": "python",
   "pygments_lexer": "ipython3",
   "version": "3.12.7"
  }
 },
 "nbformat": 4,
 "nbformat_minor": 5
}

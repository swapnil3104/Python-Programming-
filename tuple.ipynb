{
 "cells": [
  {
   "cell_type": "code",
   "execution_count": null,
   "id": "bacbfe89",
   "metadata": {},
   "outputs": [
    {
     "name": "stdout",
     "output_type": "stream",
     "text": [
      "Original Tuple: (5, 6, 2, 0, 9, 2, 1, 7, 4, 8, 3)\n"
     ]
    }
   ],
   "source": [
    "#syntax for creating a tuple\n",
    "tup = (5,6,2,0,9,2,1,7,4,8,3)\n",
    "print(\"Original Tuple:\", tup)"
   ]
  },
  {
   "cell_type": "code",
   "execution_count": 3,
   "id": "2aaf8dc6",
   "metadata": {},
   "outputs": [
    {
     "name": "stdout",
     "output_type": "stream",
     "text": [
      "tup1: 5\n",
      "Type of tup1: <class 'int'>\n"
     ]
    }
   ],
   "source": [
    "# If i not use \",\" it will consider it as integer\n",
    "tup1 = (5)\n",
    "print(\"tup1:\", tup1)\n",
    "print(\"Type of tup1:\", type(tup1))"
   ]
  },
  {
   "cell_type": "code",
   "execution_count": null,
   "id": "4cc3b7a0",
   "metadata": {},
   "outputs": [
    {
     "name": "stdout",
     "output_type": "stream",
     "text": [
      "tup: (5,)\n",
      "Type of tup: <class 'tuple'>\n"
     ]
    },
    {
     "ename": "",
     "evalue": "",
     "output_type": "error",
     "traceback": [
      "\u001b[1;31mThe Kernel crashed while executing code in the current cell or a previous cell. \n",
      "\u001b[1;31mPlease review the code in the cell(s) to identify a possible cause of the failure. \n",
      "\u001b[1;31mClick <a href='https://aka.ms/vscodeJupyterKernelCrash'>here</a> for more info. \n",
      "\u001b[1;31mView Jupyter <a href='command:jupyter.viewOutput'>log</a> for further details."
     ]
    }
   ],
   "source": [
    "tup = (5,)\n",
    "print(\"tup:\", tup)\n",
    "print(\"Type of tup:\", type(tup))"
   ]
  },
  {
   "cell_type": "code",
   "execution_count": null,
   "id": "518b36f9",
   "metadata": {},
   "outputs": [],
   "source": [
    "# same As "
   ]
  }
 ],
 "metadata": {
  "kernelspec": {
   "display_name": "base",
   "language": "python",
   "name": "python3"
  },
  "language_info": {
   "codemirror_mode": {
    "name": "ipython",
    "version": 3
   },
   "file_extension": ".py",
   "mimetype": "text/x-python",
   "name": "python",
   "nbconvert_exporter": "python",
   "pygments_lexer": "ipython3",
   "version": "3.12.7"
  }
 },
 "nbformat": 4,
 "nbformat_minor": 5
}

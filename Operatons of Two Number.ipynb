{
 "cells": [
  {
   "cell_type": "code",
   "execution_count": 1,
   "id": "5c2edb36",
   "metadata": {},
   "outputs": [],
   "source": [
    "a = 12\n",
    "b = 24\n"
   ]
  },
  {
   "cell_type": "markdown",
   "id": "87827ea1",
   "metadata": {},
   "source": [
    "Arithmetic Operators"
   ]
  },
  {
   "cell_type": "code",
   "execution_count": 2,
   "id": "56c67bc6",
   "metadata": {},
   "outputs": [
    {
     "name": "stdout",
     "output_type": "stream",
     "text": [
      "The sum of two number is: 36\n"
     ]
    }
   ],
   "source": [
    "# Addition of two number\n",
    "\n",
    "Add = a + b\n",
    "print(\"The sum of two number is:\", Add)\n"
   ]
  },
  {
   "cell_type": "code",
   "execution_count": 3,
   "id": "d994c189",
   "metadata": {},
   "outputs": [
    {
     "name": "stdout",
     "output_type": "stream",
     "text": [
      "The Subtraction of two number is: 12\n"
     ]
    }
   ],
   "source": [
    "# Subtraction of two number \n",
    "\n",
    "Sub = b - a\n",
    "print(\"The Subtraction of two number is:\", Sub)"
   ]
  },
  {
   "cell_type": "code",
   "execution_count": 5,
   "id": "7dae4503",
   "metadata": {},
   "outputs": [
    {
     "name": "stdout",
     "output_type": "stream",
     "text": [
      "The Multiplication of two number is: 288\n"
     ]
    }
   ],
   "source": [
    "# Multiplication of two number\n",
    "\n",
    "Mul = a * b\n",
    "print(\"The Multiplication of two number is:\", Mul)"
   ]
  },
  {
   "cell_type": "code",
   "execution_count": 4,
   "id": "e5e9fa14",
   "metadata": {},
   "outputs": [
    {
     "name": "stdout",
     "output_type": "stream",
     "text": [
      "The Division of two number is: 2.0\n"
     ]
    }
   ],
   "source": [
    "# Division of two number\n",
    "\n",
    "Div = b / a\n",
    "print(\"The Division of two number is:\", Div)"
   ]
  },
  {
   "cell_type": "code",
   "execution_count": 6,
   "id": "8293d34d",
   "metadata": {},
   "outputs": [
    {
     "name": "stdout",
     "output_type": "stream",
     "text": [
      "The Modulus of two number is: 0\n"
     ]
    }
   ],
   "source": [
    "# Modulus of two number\n",
    "\n",
    "Mod = b % a\n",
    "print(\"The Modulus of two number is:\", Mod)"
   ]
  },
  {
   "cell_type": "code",
   "execution_count": null,
   "id": "9e06741c",
   "metadata": {},
   "outputs": [],
   "source": [
    "a = 13\n",
    "b = 33\n",
    "\n",
    "print(a > b)\n",
    "print(a < b)\n",
    "print(a == b)\n",
    "print(a != b)\n",
    "print(a >= b)\n",
    "print(a <= b)"
   ]
  }
 ],
 "metadata": {
  "kernelspec": {
   "display_name": "base",
   "language": "python",
   "name": "python3"
  },
  "language_info": {
   "codemirror_mode": {
    "name": "ipython",
    "version": 3
   },
   "file_extension": ".py",
   "mimetype": "text/x-python",
   "name": "python",
   "nbconvert_exporter": "python",
   "pygments_lexer": "ipython3",
   "version": "3.12.7"
  }
 },
 "nbformat": 4,
 "nbformat_minor": 5
}
